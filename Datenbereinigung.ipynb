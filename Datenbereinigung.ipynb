{
 "cells": [
  {
   "cell_type": "code",
   "execution_count": 74,
   "metadata": {},
   "outputs": [],
   "source": [
    "import numpy as np"
   ]
  },
  {
   "cell_type": "code",
   "execution_count": 75,
   "metadata": {},
   "outputs": [],
   "source": [
    "import pandas as pd"
   ]
  },
  {
   "cell_type": "code",
   "execution_count": 76,
   "metadata": {},
   "outputs": [],
   "source": [
    "import matplotlib.pyplot as plt"
   ]
  },
  {
   "cell_type": "code",
   "execution_count": 77,
   "metadata": {},
   "outputs": [],
   "source": [
    "import seaborn as sns"
   ]
  },
  {
   "cell_type": "code",
   "execution_count": 78,
   "metadata": {},
   "outputs": [],
   "source": [
    "df= pd.read_csv(\"merged_data_tweets.csv\")"
   ]
  },
  {
   "cell_type": "code",
   "execution_count": 79,
   "metadata": {},
   "outputs": [
    {
     "data": {
      "text/html": [
       "<div>\n",
       "<style scoped>\n",
       "    .dataframe tbody tr th:only-of-type {\n",
       "        vertical-align: middle;\n",
       "    }\n",
       "\n",
       "    .dataframe tbody tr th {\n",
       "        vertical-align: top;\n",
       "    }\n",
       "\n",
       "    .dataframe thead th {\n",
       "        text-align: right;\n",
       "    }\n",
       "</style>\n",
       "<table border=\"1\" class=\"dataframe\">\n",
       "  <thead>\n",
       "    <tr style=\"text-align: right;\">\n",
       "      <th></th>\n",
       "      <th>text</th>\n",
       "      <th>created_at</th>\n",
       "      <th>user_id_str</th>\n",
       "      <th>Firmen</th>\n",
       "    </tr>\n",
       "  </thead>\n",
       "  <tbody>\n",
       "    <tr>\n",
       "      <th>0</th>\n",
       "      <td>['rt', 'AT_USER', 'summary', 'of', \"yesterday'...</td>\n",
       "      <td>2014-01-01 03:59:03+00:00</td>\n",
       "      <td>1938270918</td>\n",
       "      <td>AAPL</td>\n",
       "    </tr>\n",
       "    <tr>\n",
       "      <th>1</th>\n",
       "      <td>['rt', 'AT_USER', 'summary', 'of', \"yesterday'...</td>\n",
       "      <td>2014-01-01 03:29:29+00:00</td>\n",
       "      <td>1933063572</td>\n",
       "      <td>AAPL</td>\n",
       "    </tr>\n",
       "    <tr>\n",
       "      <th>2</th>\n",
       "      <td>['itv', 'will', 'boost', 'apple', 'URL', '$', ...</td>\n",
       "      <td>2014-01-01 18:08:47+00:00</td>\n",
       "      <td>23059499</td>\n",
       "      <td>AAPL</td>\n",
       "    </tr>\n",
       "    <tr>\n",
       "      <th>3</th>\n",
       "      <td>['iphone', 'users', 'are', 'more', 'intelligen...</td>\n",
       "      <td>2014-01-01 01:52:31+00:00</td>\n",
       "      <td>23954327</td>\n",
       "      <td>AAPL</td>\n",
       "    </tr>\n",
       "    <tr>\n",
       "      <th>4</th>\n",
       "      <td>['rt', 'AT_USER', 'summary', 'of', \"yesterday'...</td>\n",
       "      <td>2014-01-01 01:18:36+00:00</td>\n",
       "      <td>1937591882</td>\n",
       "      <td>AAPL</td>\n",
       "    </tr>\n",
       "  </tbody>\n",
       "</table>\n",
       "</div>"
      ],
      "text/plain": [
       "                                                text  \\\n",
       "0  ['rt', 'AT_USER', 'summary', 'of', \"yesterday'...   \n",
       "1  ['rt', 'AT_USER', 'summary', 'of', \"yesterday'...   \n",
       "2  ['itv', 'will', 'boost', 'apple', 'URL', '$', ...   \n",
       "3  ['iphone', 'users', 'are', 'more', 'intelligen...   \n",
       "4  ['rt', 'AT_USER', 'summary', 'of', \"yesterday'...   \n",
       "\n",
       "                  created_at  user_id_str Firmen  \n",
       "0  2014-01-01 03:59:03+00:00   1938270918   AAPL  \n",
       "1  2014-01-01 03:29:29+00:00   1933063572   AAPL  \n",
       "2  2014-01-01 18:08:47+00:00     23059499   AAPL  \n",
       "3  2014-01-01 01:52:31+00:00     23954327   AAPL  \n",
       "4  2014-01-01 01:18:36+00:00   1937591882   AAPL  "
      ]
     },
     "execution_count": 79,
     "metadata": {},
     "output_type": "execute_result"
    }
   ],
   "source": [
    "df.head()"
   ]
  },
  {
   "cell_type": "code",
   "execution_count": 80,
   "metadata": {},
   "outputs": [
    {
     "data": {
      "text/plain": [
       "(63730, 4)"
      ]
     },
     "execution_count": 80,
     "metadata": {},
     "output_type": "execute_result"
    }
   ],
   "source": [
    "df.shape"
   ]
  },
  {
   "cell_type": "code",
   "execution_count": 81,
   "metadata": {},
   "outputs": [
    {
     "name": "stdout",
     "output_type": "stream",
     "text": [
      "<class 'pandas.core.frame.DataFrame'>\n",
      "RangeIndex: 63730 entries, 0 to 63729\n",
      "Data columns (total 4 columns):\n",
      " #   Column       Non-Null Count  Dtype \n",
      "---  ------       --------------  ----- \n",
      " 0   text         63730 non-null  object\n",
      " 1   created_at   63730 non-null  object\n",
      " 2   user_id_str  63730 non-null  int64 \n",
      " 3   Firmen       63730 non-null  object\n",
      "dtypes: int64(1), object(3)\n",
      "memory usage: 1.9+ MB\n"
     ]
    }
   ],
   "source": [
    "df.info()"
   ]
  },
  {
   "cell_type": "code",
   "execution_count": 82,
   "metadata": {},
   "outputs": [],
   "source": [
    "duplicate_rows = df[df[\"text\"].duplicated(keep='first')]"
   ]
  },
  {
   "cell_type": "code",
   "execution_count": 83,
   "metadata": {},
   "outputs": [
    {
     "data": {
      "text/plain": [
       "21084"
      ]
     },
     "execution_count": 83,
     "metadata": {},
     "output_type": "execute_result"
    }
   ],
   "source": [
    "len(duplicate_rows)"
   ]
  },
  {
   "cell_type": "code",
   "execution_count": 84,
   "metadata": {},
   "outputs": [
    {
     "name": "stdout",
     "output_type": "stream",
     "text": [
      "                                                    text  \\\n",
      "1      ['rt', 'AT_USER', 'summary', 'of', \"yesterday'...   \n",
      "4      ['rt', 'AT_USER', 'summary', 'of', \"yesterday'...   \n",
      "7      ['rt', 'AT_USER', 'summary', 'of', \"yesterday'...   \n",
      "15     ['rt', 'AT_USER', 'our', 'top', '3', 'trade', ...   \n",
      "16     ['rt', 'AT_USER', 'our', 'top', '3', 'trade', ...   \n",
      "...                                                  ...   \n",
      "63710  ['are', 'u', 'ready', 'for', 'the', 'next', 'b...   \n",
      "63711  ['URL', 'learn', 'the', 'exact', 'trading', 's...   \n",
      "63712  ['can', 'anyone', 'challenge', \"amazon's\", 'e-...   \n",
      "63715  ['perplexing', 'how', 'the', 'feds', 'have', '...   \n",
      "63724  ['wmt', 'wal-mart', 'stores', ',', 'inc', '.',...   \n",
      "\n",
      "                      created_at  user_id_str Firmen  \n",
      "1      2014-01-01 03:29:29+00:00   1933063572   AAPL  \n",
      "4      2014-01-01 01:18:36+00:00   1937591882   AAPL  \n",
      "7      2013-12-31 23:10:08+00:00   1864753100   AAPL  \n",
      "15     2014-01-02 20:29:42+00:00   1964840965   AAPL  \n",
      "16     2014-01-02 19:23:00+00:00   2200941410   AAPL  \n",
      "...                          ...          ...    ...  \n",
      "63710  2015-12-14 18:31:18+00:00    803698826    WMT  \n",
      "63711  2015-12-15 03:02:50+00:00   3269380080    WMT  \n",
      "63712  2015-12-17 14:40:56+00:00   1544270486    WMT  \n",
      "63715  2015-12-21 15:17:55+00:00    207630487    WMT  \n",
      "63724  2015-12-26 11:03:15+00:00   2863026998    WMT  \n",
      "\n",
      "[21084 rows x 4 columns]\n"
     ]
    }
   ],
   "source": [
    "#es wurde festgestellet, dass unsere Datensätze sich wiederholen.\n",
    "print(duplicate_rows)"
   ]
  },
  {
   "cell_type": "code",
   "execution_count": 85,
   "metadata": {},
   "outputs": [
    {
     "name": "stdout",
     "output_type": "stream",
     "text": [
      "<class 'pandas.core.series.Series'>\n",
      "RangeIndex: 63730 entries, 0 to 63729\n",
      "Series name: text\n",
      "Non-Null Count  Dtype \n",
      "--------------  ----- \n",
      "63730 non-null  object\n",
      "dtypes: object(1)\n",
      "memory usage: 498.0+ KB\n"
     ]
    }
   ],
   "source": [
    "df[\"text\"].info()"
   ]
  },
  {
   "cell_type": "code",
   "execution_count": 86,
   "metadata": {},
   "outputs": [
    {
     "data": {
      "text/plain": [
       "42646"
      ]
     },
     "execution_count": 86,
     "metadata": {},
     "output_type": "execute_result"
    }
   ],
   "source": [
    "df[\"text\"].nunique()"
   ]
  },
  {
   "cell_type": "code",
   "execution_count": 87,
   "metadata": {},
   "outputs": [
    {
     "data": {
      "text/plain": [
       "text\n",
       "['rt', 'AT_USER', '$', 'amzn', 'in', 'talks', 'to', 'buy', '$', 'grpn', 'for', '7b', '.', '$', 'fb', 'should', 'have', 'bought', 'them', 'instead', 'of', 'oculus', '.', 'will', '$', 'goog', 'step', 'in', '?']                                       1797\n",
       "['rt', 'AT_USER', '$', 'amzn', 'amazon', 'in', 'talks', 'to', 'buy', '$', 'grpn', 'groupon', 'for', '7b', 'over', '$', '8', 'a', 'share', '!', '!', 'will', '$', 'fb', 'facebook', 'or', '$', 'goog', 'google', 'step', 'in', '?', 'grouponm', '…']     930\n",
       "['l', '$', 'd']                                                                                                                                                                                                                                         410\n",
       "['rt', 'AT_USER', 'a', '$', 'ap', 'rocky', '-', 'l', '$', 'd', 'URL']                                                                                                                                                                                   382\n",
       "['rt', 'AT_USER', 'check', 'out', 'our', 'very', 'latest', 'stock', 'options', 'positions', 'URL', '$', 'pcln', '$', 'aapl', '$', 'spy', '$', 'mu', '$', 'fb', '$', 'nflx', '$', 'tsla', '$', 'amzn', '…']                                              246\n",
       "                                                                                                                                                                                                                                                       ... \n",
       "['one', 'month', 'chart', 'of', '$', 'amzn', 'is', 'hilarious', '.', \"you'd\", 'think', 'bezos', 'was', 'piloting', 'the', 'hindenburg', 'with', 'all', 'the', 'noise', 'lately', '.']                                                                     1\n",
       "['$', 'amzn', '-', '3d', 'printing', 'companies', 'slip', 'on', 'new', 'amazon', 'store', '->', 'URL', 'stock', 'stocks', 'stockaction']                                                                                                                  1\n",
       "['$', 'amzn', '-', 'red', 'ocean', ':', 'can', 'amazon', ',', 'microsoft', ',', 'and', 'google', 'profit', 'from', '$', '100', 'billion', '...', '->', 'URL', 'stock', 'stocks', 'stockaction']                                                           1\n",
       "['is', '$', 'amzn', 'a', 'buy', '?', 'suntrust', 'robinson', 'humphrey', 'thinks', 'so', ':', 'URL']                                                                                                                                                      1\n",
       "['wmt', 'top', 'news', '-', 'dec', '30th', ',', '2015', '$', 'wmt', 'URL']                                                                                                                                                                                1\n",
       "Name: count, Length: 42646, dtype: int64"
      ]
     },
     "execution_count": 87,
     "metadata": {},
     "output_type": "execute_result"
    }
   ],
   "source": [
    "df[\"text\"].value_counts()"
   ]
  },
  {
   "cell_type": "code",
   "execution_count": 88,
   "metadata": {},
   "outputs": [],
   "source": [
    "#df = df.drop_duplicates()"
   ]
  },
  {
   "cell_type": "code",
   "execution_count": 89,
   "metadata": {},
   "outputs": [],
   "source": [
    "#df = df[\"text\"].drop_duplicates()"
   ]
  },
  {
   "cell_type": "code",
   "execution_count": 90,
   "metadata": {},
   "outputs": [
    {
     "name": "stdout",
     "output_type": "stream",
     "text": [
      "<class 'pandas.core.frame.DataFrame'>\n",
      "RangeIndex: 63730 entries, 0 to 63729\n",
      "Data columns (total 4 columns):\n",
      " #   Column       Non-Null Count  Dtype \n",
      "---  ------       --------------  ----- \n",
      " 0   text         63730 non-null  object\n",
      " 1   created_at   63730 non-null  object\n",
      " 2   user_id_str  63730 non-null  int64 \n",
      " 3   Firmen       63730 non-null  object\n",
      "dtypes: int64(1), object(3)\n",
      "memory usage: 1.9+ MB\n"
     ]
    }
   ],
   "source": [
    "df.info()"
   ]
  },
  {
   "cell_type": "code",
   "execution_count": 91,
   "metadata": {},
   "outputs": [
    {
     "data": {
      "text/html": [
       "<div>\n",
       "<style scoped>\n",
       "    .dataframe tbody tr th:only-of-type {\n",
       "        vertical-align: middle;\n",
       "    }\n",
       "\n",
       "    .dataframe tbody tr th {\n",
       "        vertical-align: top;\n",
       "    }\n",
       "\n",
       "    .dataframe thead th {\n",
       "        text-align: right;\n",
       "    }\n",
       "</style>\n",
       "<table border=\"1\" class=\"dataframe\">\n",
       "  <thead>\n",
       "    <tr style=\"text-align: right;\">\n",
       "      <th></th>\n",
       "      <th>text</th>\n",
       "      <th>created_at</th>\n",
       "      <th>user_id_str</th>\n",
       "      <th>Firmen</th>\n",
       "    </tr>\n",
       "  </thead>\n",
       "  <tbody>\n",
       "    <tr>\n",
       "      <th>0</th>\n",
       "      <td>['rt', 'AT_USER', 'summary', 'of', \"yesterday'...</td>\n",
       "      <td>2014-01-01 03:59:03+00:00</td>\n",
       "      <td>1938270918</td>\n",
       "      <td>AAPL</td>\n",
       "    </tr>\n",
       "    <tr>\n",
       "      <th>1</th>\n",
       "      <td>['rt', 'AT_USER', 'summary', 'of', \"yesterday'...</td>\n",
       "      <td>2014-01-01 03:29:29+00:00</td>\n",
       "      <td>1933063572</td>\n",
       "      <td>AAPL</td>\n",
       "    </tr>\n",
       "    <tr>\n",
       "      <th>2</th>\n",
       "      <td>['itv', 'will', 'boost', 'apple', 'URL', '$', ...</td>\n",
       "      <td>2014-01-01 18:08:47+00:00</td>\n",
       "      <td>23059499</td>\n",
       "      <td>AAPL</td>\n",
       "    </tr>\n",
       "    <tr>\n",
       "      <th>3</th>\n",
       "      <td>['iphone', 'users', 'are', 'more', 'intelligen...</td>\n",
       "      <td>2014-01-01 01:52:31+00:00</td>\n",
       "      <td>23954327</td>\n",
       "      <td>AAPL</td>\n",
       "    </tr>\n",
       "    <tr>\n",
       "      <th>4</th>\n",
       "      <td>['rt', 'AT_USER', 'summary', 'of', \"yesterday'...</td>\n",
       "      <td>2014-01-01 01:18:36+00:00</td>\n",
       "      <td>1937591882</td>\n",
       "      <td>AAPL</td>\n",
       "    </tr>\n",
       "  </tbody>\n",
       "</table>\n",
       "</div>"
      ],
      "text/plain": [
       "                                                text  \\\n",
       "0  ['rt', 'AT_USER', 'summary', 'of', \"yesterday'...   \n",
       "1  ['rt', 'AT_USER', 'summary', 'of', \"yesterday'...   \n",
       "2  ['itv', 'will', 'boost', 'apple', 'URL', '$', ...   \n",
       "3  ['iphone', 'users', 'are', 'more', 'intelligen...   \n",
       "4  ['rt', 'AT_USER', 'summary', 'of', \"yesterday'...   \n",
       "\n",
       "                  created_at  user_id_str Firmen  \n",
       "0  2014-01-01 03:59:03+00:00   1938270918   AAPL  \n",
       "1  2014-01-01 03:29:29+00:00   1933063572   AAPL  \n",
       "2  2014-01-01 18:08:47+00:00     23059499   AAPL  \n",
       "3  2014-01-01 01:52:31+00:00     23954327   AAPL  \n",
       "4  2014-01-01 01:18:36+00:00   1937591882   AAPL  "
      ]
     },
     "execution_count": 91,
     "metadata": {},
     "output_type": "execute_result"
    }
   ],
   "source": [
    "df.head()"
   ]
  },
  {
   "cell_type": "code",
   "execution_count": 92,
   "metadata": {},
   "outputs": [
    {
     "data": {
      "text/html": [
       "<div>\n",
       "<style scoped>\n",
       "    .dataframe tbody tr th:only-of-type {\n",
       "        vertical-align: middle;\n",
       "    }\n",
       "\n",
       "    .dataframe tbody tr th {\n",
       "        vertical-align: top;\n",
       "    }\n",
       "\n",
       "    .dataframe thead th {\n",
       "        text-align: right;\n",
       "    }\n",
       "</style>\n",
       "<table border=\"1\" class=\"dataframe\">\n",
       "  <thead>\n",
       "    <tr style=\"text-align: right;\">\n",
       "      <th></th>\n",
       "      <th>user_id_str</th>\n",
       "    </tr>\n",
       "  </thead>\n",
       "  <tbody>\n",
       "    <tr>\n",
       "      <th>count</th>\n",
       "      <td>6.373000e+04</td>\n",
       "    </tr>\n",
       "    <tr>\n",
       "      <th>mean</th>\n",
       "      <td>1.507366e+09</td>\n",
       "    </tr>\n",
       "    <tr>\n",
       "      <th>std</th>\n",
       "      <td>1.143013e+09</td>\n",
       "    </tr>\n",
       "    <tr>\n",
       "      <th>min</th>\n",
       "      <td>9.890000e+02</td>\n",
       "    </tr>\n",
       "    <tr>\n",
       "      <th>25%</th>\n",
       "      <td>2.558797e+08</td>\n",
       "    </tr>\n",
       "    <tr>\n",
       "      <th>50%</th>\n",
       "      <td>1.729116e+09</td>\n",
       "    </tr>\n",
       "    <tr>\n",
       "      <th>75%</th>\n",
       "      <td>2.476972e+09</td>\n",
       "    </tr>\n",
       "    <tr>\n",
       "      <th>max</th>\n",
       "      <td>4.620549e+09</td>\n",
       "    </tr>\n",
       "  </tbody>\n",
       "</table>\n",
       "</div>"
      ],
      "text/plain": [
       "        user_id_str\n",
       "count  6.373000e+04\n",
       "mean   1.507366e+09\n",
       "std    1.143013e+09\n",
       "min    9.890000e+02\n",
       "25%    2.558797e+08\n",
       "50%    1.729116e+09\n",
       "75%    2.476972e+09\n",
       "max    4.620549e+09"
      ]
     },
     "execution_count": 92,
     "metadata": {},
     "output_type": "execute_result"
    }
   ],
   "source": [
    "df.describe()"
   ]
  },
  {
   "cell_type": "code",
   "execution_count": 93,
   "metadata": {},
   "outputs": [
    {
     "data": {
      "text/plain": [
       "(63730, 4)"
      ]
     },
     "execution_count": 93,
     "metadata": {},
     "output_type": "execute_result"
    }
   ],
   "source": [
    "df.shape"
   ]
  },
  {
   "cell_type": "code",
   "execution_count": 94,
   "metadata": {},
   "outputs": [
    {
     "data": {
      "text/html": [
       "<div>\n",
       "<style scoped>\n",
       "    .dataframe tbody tr th:only-of-type {\n",
       "        vertical-align: middle;\n",
       "    }\n",
       "\n",
       "    .dataframe tbody tr th {\n",
       "        vertical-align: top;\n",
       "    }\n",
       "\n",
       "    .dataframe thead th {\n",
       "        text-align: right;\n",
       "    }\n",
       "</style>\n",
       "<table border=\"1\" class=\"dataframe\">\n",
       "  <thead>\n",
       "    <tr style=\"text-align: right;\">\n",
       "      <th></th>\n",
       "      <th>text</th>\n",
       "      <th>created_at</th>\n",
       "      <th>user_id_str</th>\n",
       "      <th>Firmen</th>\n",
       "    </tr>\n",
       "  </thead>\n",
       "  <tbody>\n",
       "    <tr>\n",
       "      <th>0</th>\n",
       "      <td>['rt', 'AT_USER', 'summary', 'of', \"yesterday'...</td>\n",
       "      <td>2014-01-01 03:59:03+00:00</td>\n",
       "      <td>1938270918</td>\n",
       "      <td>AAPL</td>\n",
       "    </tr>\n",
       "    <tr>\n",
       "      <th>1</th>\n",
       "      <td>['rt', 'AT_USER', 'summary', 'of', \"yesterday'...</td>\n",
       "      <td>2014-01-01 03:29:29+00:00</td>\n",
       "      <td>1933063572</td>\n",
       "      <td>AAPL</td>\n",
       "    </tr>\n",
       "    <tr>\n",
       "      <th>2</th>\n",
       "      <td>['itv', 'will', 'boost', 'apple', 'URL', '$', ...</td>\n",
       "      <td>2014-01-01 18:08:47+00:00</td>\n",
       "      <td>23059499</td>\n",
       "      <td>AAPL</td>\n",
       "    </tr>\n",
       "    <tr>\n",
       "      <th>3</th>\n",
       "      <td>['iphone', 'users', 'are', 'more', 'intelligen...</td>\n",
       "      <td>2014-01-01 01:52:31+00:00</td>\n",
       "      <td>23954327</td>\n",
       "      <td>AAPL</td>\n",
       "    </tr>\n",
       "    <tr>\n",
       "      <th>4</th>\n",
       "      <td>['rt', 'AT_USER', 'summary', 'of', \"yesterday'...</td>\n",
       "      <td>2014-01-01 01:18:36+00:00</td>\n",
       "      <td>1937591882</td>\n",
       "      <td>AAPL</td>\n",
       "    </tr>\n",
       "    <tr>\n",
       "      <th>5</th>\n",
       "      <td>['2013', 'wrap-up', 'and', 'trading', 'set', '...</td>\n",
       "      <td>2014-01-01 10:52:20+00:00</td>\n",
       "      <td>23059499</td>\n",
       "      <td>AAPL</td>\n",
       "    </tr>\n",
       "    <tr>\n",
       "      <th>6</th>\n",
       "      <td>['apple', 'screwed', 'up', 'big', 'time', 'URL...</td>\n",
       "      <td>2014-01-01 15:01:12+00:00</td>\n",
       "      <td>23669783</td>\n",
       "      <td>AAPL</td>\n",
       "    </tr>\n",
       "    <tr>\n",
       "      <th>7</th>\n",
       "      <td>['rt', 'AT_USER', 'summary', 'of', \"yesterday'...</td>\n",
       "      <td>2013-12-31 23:10:08+00:00</td>\n",
       "      <td>1864753100</td>\n",
       "      <td>AAPL</td>\n",
       "    </tr>\n",
       "    <tr>\n",
       "      <th>8</th>\n",
       "      <td>['$', 'aapl', '-', 'wall', 'st', '.', 'kicks',...</td>\n",
       "      <td>2014-01-02 15:45:02+00:00</td>\n",
       "      <td>153395860</td>\n",
       "      <td>AAPL</td>\n",
       "    </tr>\n",
       "    <tr>\n",
       "      <th>9</th>\n",
       "      <td>['rt', 'AT_USER', \"here's\", 'how', 'apple', 'c...</td>\n",
       "      <td>2014-01-02 04:31:32+00:00</td>\n",
       "      <td>1653399757</td>\n",
       "      <td>AAPL</td>\n",
       "    </tr>\n",
       "  </tbody>\n",
       "</table>\n",
       "</div>"
      ],
      "text/plain": [
       "                                                text  \\\n",
       "0  ['rt', 'AT_USER', 'summary', 'of', \"yesterday'...   \n",
       "1  ['rt', 'AT_USER', 'summary', 'of', \"yesterday'...   \n",
       "2  ['itv', 'will', 'boost', 'apple', 'URL', '$', ...   \n",
       "3  ['iphone', 'users', 'are', 'more', 'intelligen...   \n",
       "4  ['rt', 'AT_USER', 'summary', 'of', \"yesterday'...   \n",
       "5  ['2013', 'wrap-up', 'and', 'trading', 'set', '...   \n",
       "6  ['apple', 'screwed', 'up', 'big', 'time', 'URL...   \n",
       "7  ['rt', 'AT_USER', 'summary', 'of', \"yesterday'...   \n",
       "8  ['$', 'aapl', '-', 'wall', 'st', '.', 'kicks',...   \n",
       "9  ['rt', 'AT_USER', \"here's\", 'how', 'apple', 'c...   \n",
       "\n",
       "                  created_at  user_id_str Firmen  \n",
       "0  2014-01-01 03:59:03+00:00   1938270918   AAPL  \n",
       "1  2014-01-01 03:29:29+00:00   1933063572   AAPL  \n",
       "2  2014-01-01 18:08:47+00:00     23059499   AAPL  \n",
       "3  2014-01-01 01:52:31+00:00     23954327   AAPL  \n",
       "4  2014-01-01 01:18:36+00:00   1937591882   AAPL  \n",
       "5  2014-01-01 10:52:20+00:00     23059499   AAPL  \n",
       "6  2014-01-01 15:01:12+00:00     23669783   AAPL  \n",
       "7  2013-12-31 23:10:08+00:00   1864753100   AAPL  \n",
       "8  2014-01-02 15:45:02+00:00    153395860   AAPL  \n",
       "9  2014-01-02 04:31:32+00:00   1653399757   AAPL  "
      ]
     },
     "execution_count": 94,
     "metadata": {},
     "output_type": "execute_result"
    }
   ],
   "source": [
    "df.head(10)"
   ]
  },
  {
   "cell_type": "code",
   "execution_count": 95,
   "metadata": {},
   "outputs": [],
   "source": [
    "#\n",
    "# df.describe()"
   ]
  },
  {
   "cell_type": "code",
   "execution_count": 96,
   "metadata": {},
   "outputs": [
    {
     "data": {
      "text/plain": [
       "text\n",
       "['rt', 'AT_USER', '$', 'amzn', 'in', 'talks', 'to', 'buy', '$', 'grpn', 'for', '7b', '.', '$', 'fb', 'should', 'have', 'bought', 'them', 'instead', 'of', 'oculus', '.', 'will', '$', 'goog', 'step', 'in', '?']                                       1797\n",
       "['rt', 'AT_USER', '$', 'amzn', 'amazon', 'in', 'talks', 'to', 'buy', '$', 'grpn', 'groupon', 'for', '7b', 'over', '$', '8', 'a', 'share', '!', '!', 'will', '$', 'fb', 'facebook', 'or', '$', 'goog', 'google', 'step', 'in', '?', 'grouponm', '…']     930\n",
       "['l', '$', 'd']                                                                                                                                                                                                                                         410\n",
       "['rt', 'AT_USER', 'a', '$', 'ap', 'rocky', '-', 'l', '$', 'd', 'URL']                                                                                                                                                                                   382\n",
       "['rt', 'AT_USER', 'check', 'out', 'our', 'very', 'latest', 'stock', 'options', 'positions', 'URL', '$', 'pcln', '$', 'aapl', '$', 'spy', '$', 'mu', '$', 'fb', '$', 'nflx', '$', 'tsla', '$', 'amzn', '…']                                              246\n",
       "                                                                                                                                                                                                                                                       ... \n",
       "['one', 'month', 'chart', 'of', '$', 'amzn', 'is', 'hilarious', '.', \"you'd\", 'think', 'bezos', 'was', 'piloting', 'the', 'hindenburg', 'with', 'all', 'the', 'noise', 'lately', '.']                                                                     1\n",
       "['$', 'amzn', '-', '3d', 'printing', 'companies', 'slip', 'on', 'new', 'amazon', 'store', '->', 'URL', 'stock', 'stocks', 'stockaction']                                                                                                                  1\n",
       "['$', 'amzn', '-', 'red', 'ocean', ':', 'can', 'amazon', ',', 'microsoft', ',', 'and', 'google', 'profit', 'from', '$', '100', 'billion', '...', '->', 'URL', 'stock', 'stocks', 'stockaction']                                                           1\n",
       "['is', '$', 'amzn', 'a', 'buy', '?', 'suntrust', 'robinson', 'humphrey', 'thinks', 'so', ':', 'URL']                                                                                                                                                      1\n",
       "['wmt', 'top', 'news', '-', 'dec', '30th', ',', '2015', '$', 'wmt', 'URL']                                                                                                                                                                                1\n",
       "Name: count, Length: 42646, dtype: int64"
      ]
     },
     "execution_count": 96,
     "metadata": {},
     "output_type": "execute_result"
    }
   ],
   "source": [
    "df[\"text\"].value_counts()"
   ]
  },
  {
   "cell_type": "code",
   "execution_count": 97,
   "metadata": {},
   "outputs": [],
   "source": [
    "# hier werden die Duplikaten entfernt\n",
    "#duplicate_rows = df[df[\"text\"].duplicated(keep='first')]\n",
    "Einzeldaten=df.drop(duplicate_rows.index)"
   ]
  },
  {
   "cell_type": "code",
   "execution_count": 98,
   "metadata": {},
   "outputs": [
    {
     "data": {
      "text/html": [
       "<div>\n",
       "<style scoped>\n",
       "    .dataframe tbody tr th:only-of-type {\n",
       "        vertical-align: middle;\n",
       "    }\n",
       "\n",
       "    .dataframe tbody tr th {\n",
       "        vertical-align: top;\n",
       "    }\n",
       "\n",
       "    .dataframe thead th {\n",
       "        text-align: right;\n",
       "    }\n",
       "</style>\n",
       "<table border=\"1\" class=\"dataframe\">\n",
       "  <thead>\n",
       "    <tr style=\"text-align: right;\">\n",
       "      <th></th>\n",
       "      <th>text</th>\n",
       "      <th>created_at</th>\n",
       "      <th>user_id_str</th>\n",
       "      <th>Firmen</th>\n",
       "    </tr>\n",
       "  </thead>\n",
       "  <tbody>\n",
       "    <tr>\n",
       "      <th>0</th>\n",
       "      <td>['rt', 'AT_USER', 'summary', 'of', \"yesterday'...</td>\n",
       "      <td>2014-01-01 03:59:03+00:00</td>\n",
       "      <td>1938270918</td>\n",
       "      <td>AAPL</td>\n",
       "    </tr>\n",
       "    <tr>\n",
       "      <th>2</th>\n",
       "      <td>['itv', 'will', 'boost', 'apple', 'URL', '$', ...</td>\n",
       "      <td>2014-01-01 18:08:47+00:00</td>\n",
       "      <td>23059499</td>\n",
       "      <td>AAPL</td>\n",
       "    </tr>\n",
       "    <tr>\n",
       "      <th>3</th>\n",
       "      <td>['iphone', 'users', 'are', 'more', 'intelligen...</td>\n",
       "      <td>2014-01-01 01:52:31+00:00</td>\n",
       "      <td>23954327</td>\n",
       "      <td>AAPL</td>\n",
       "    </tr>\n",
       "    <tr>\n",
       "      <th>5</th>\n",
       "      <td>['2013', 'wrap-up', 'and', 'trading', 'set', '...</td>\n",
       "      <td>2014-01-01 10:52:20+00:00</td>\n",
       "      <td>23059499</td>\n",
       "      <td>AAPL</td>\n",
       "    </tr>\n",
       "    <tr>\n",
       "      <th>6</th>\n",
       "      <td>['apple', 'screwed', 'up', 'big', 'time', 'URL...</td>\n",
       "      <td>2014-01-01 15:01:12+00:00</td>\n",
       "      <td>23669783</td>\n",
       "      <td>AAPL</td>\n",
       "    </tr>\n",
       "  </tbody>\n",
       "</table>\n",
       "</div>"
      ],
      "text/plain": [
       "                                                text  \\\n",
       "0  ['rt', 'AT_USER', 'summary', 'of', \"yesterday'...   \n",
       "2  ['itv', 'will', 'boost', 'apple', 'URL', '$', ...   \n",
       "3  ['iphone', 'users', 'are', 'more', 'intelligen...   \n",
       "5  ['2013', 'wrap-up', 'and', 'trading', 'set', '...   \n",
       "6  ['apple', 'screwed', 'up', 'big', 'time', 'URL...   \n",
       "\n",
       "                  created_at  user_id_str Firmen  \n",
       "0  2014-01-01 03:59:03+00:00   1938270918   AAPL  \n",
       "2  2014-01-01 18:08:47+00:00     23059499   AAPL  \n",
       "3  2014-01-01 01:52:31+00:00     23954327   AAPL  \n",
       "5  2014-01-01 10:52:20+00:00     23059499   AAPL  \n",
       "6  2014-01-01 15:01:12+00:00     23669783   AAPL  "
      ]
     },
     "execution_count": 98,
     "metadata": {},
     "output_type": "execute_result"
    }
   ],
   "source": [
    "Einzeldaten.head()"
   ]
  },
  {
   "cell_type": "code",
   "execution_count": 99,
   "metadata": {},
   "outputs": [
    {
     "name": "stdout",
     "output_type": "stream",
     "text": [
      "<class 'pandas.core.frame.DataFrame'>\n",
      "Index: 42646 entries, 0 to 63729\n",
      "Data columns (total 4 columns):\n",
      " #   Column       Non-Null Count  Dtype \n",
      "---  ------       --------------  ----- \n",
      " 0   text         42646 non-null  object\n",
      " 1   created_at   42646 non-null  object\n",
      " 2   user_id_str  42646 non-null  int64 \n",
      " 3   Firmen       42646 non-null  object\n",
      "dtypes: int64(1), object(3)\n",
      "memory usage: 1.6+ MB\n"
     ]
    }
   ],
   "source": [
    "Einzeldaten.info()"
   ]
  },
  {
   "cell_type": "code",
   "execution_count": 100,
   "metadata": {},
   "outputs": [
    {
     "data": {
      "text/plain": [
       "42646"
      ]
     },
     "execution_count": 100,
     "metadata": {},
     "output_type": "execute_result"
    }
   ],
   "source": [
    "Einzeldaten[\"text\"].nunique()"
   ]
  },
  {
   "cell_type": "code",
   "execution_count": 101,
   "metadata": {},
   "outputs": [],
   "source": [
    "#Die beide Merkmale (created_at und user ) sind nicht relevant für das Sentiment Analysis  \n",
    "Neu_df= Einzeldaten.drop(columns=[\"created_at\",\"user_id_str\"], axis=1)"
   ]
  },
  {
   "cell_type": "code",
   "execution_count": 102,
   "metadata": {},
   "outputs": [
    {
     "data": {
      "text/html": [
       "<div>\n",
       "<style scoped>\n",
       "    .dataframe tbody tr th:only-of-type {\n",
       "        vertical-align: middle;\n",
       "    }\n",
       "\n",
       "    .dataframe tbody tr th {\n",
       "        vertical-align: top;\n",
       "    }\n",
       "\n",
       "    .dataframe thead th {\n",
       "        text-align: right;\n",
       "    }\n",
       "</style>\n",
       "<table border=\"1\" class=\"dataframe\">\n",
       "  <thead>\n",
       "    <tr style=\"text-align: right;\">\n",
       "      <th></th>\n",
       "      <th>text</th>\n",
       "      <th>Firmen</th>\n",
       "    </tr>\n",
       "  </thead>\n",
       "  <tbody>\n",
       "    <tr>\n",
       "      <th>0</th>\n",
       "      <td>['rt', 'AT_USER', 'summary', 'of', \"yesterday'...</td>\n",
       "      <td>AAPL</td>\n",
       "    </tr>\n",
       "    <tr>\n",
       "      <th>2</th>\n",
       "      <td>['itv', 'will', 'boost', 'apple', 'URL', '$', ...</td>\n",
       "      <td>AAPL</td>\n",
       "    </tr>\n",
       "    <tr>\n",
       "      <th>3</th>\n",
       "      <td>['iphone', 'users', 'are', 'more', 'intelligen...</td>\n",
       "      <td>AAPL</td>\n",
       "    </tr>\n",
       "    <tr>\n",
       "      <th>5</th>\n",
       "      <td>['2013', 'wrap-up', 'and', 'trading', 'set', '...</td>\n",
       "      <td>AAPL</td>\n",
       "    </tr>\n",
       "    <tr>\n",
       "      <th>6</th>\n",
       "      <td>['apple', 'screwed', 'up', 'big', 'time', 'URL...</td>\n",
       "      <td>AAPL</td>\n",
       "    </tr>\n",
       "  </tbody>\n",
       "</table>\n",
       "</div>"
      ],
      "text/plain": [
       "                                                text Firmen\n",
       "0  ['rt', 'AT_USER', 'summary', 'of', \"yesterday'...   AAPL\n",
       "2  ['itv', 'will', 'boost', 'apple', 'URL', '$', ...   AAPL\n",
       "3  ['iphone', 'users', 'are', 'more', 'intelligen...   AAPL\n",
       "5  ['2013', 'wrap-up', 'and', 'trading', 'set', '...   AAPL\n",
       "6  ['apple', 'screwed', 'up', 'big', 'time', 'URL...   AAPL"
      ]
     },
     "execution_count": 102,
     "metadata": {},
     "output_type": "execute_result"
    }
   ],
   "source": [
    "Neu_df.head()"
   ]
  },
  {
   "cell_type": "code",
   "execution_count": 103,
   "metadata": {},
   "outputs": [
    {
     "data": {
      "text/plain": [
       "pandas.core.frame.DataFrame"
      ]
     },
     "execution_count": 103,
     "metadata": {},
     "output_type": "execute_result"
    }
   ],
   "source": [
    "type(Neu_df)"
   ]
  },
  {
   "cell_type": "code",
   "execution_count": 104,
   "metadata": {},
   "outputs": [
    {
     "data": {
      "text/plain": [
       "text                                                                                                                                                                                                    Firmen\n",
       "[\"accelerize's\", 'cake', 'takes', 'stage', 'at', \"marketo's\", 'sxsw', 'engagement', 'lounge', 'URL', '$', 'aclz', 'at', '$', '1.50', '(', 'up', '+7.14', '%', ')', 'saas', '$', 'mkto', '$', 'orcl']    ORCL      1\n",
       "['rt', 'AT_USER', \"facebook's\", 'market', 'cap', 'is', 'roughly', 'equivalent', 'of', 'american', 'express', 'and', 'ups', 'combined', '.', 'URL', '$', 'axp', '$', 'ups', '$', 'fb']                   META      1\n",
       "['rt', 'AT_USER', \"facebook's\", 'mobile', 'ad', 'sales', 'jump', ',', 'pushing', 'up', 'earnings', ',', 'but', 'shares', 'drop', 'on', 'expense', 'increases', 'URL', '$', 'fb', 'URL']                 META      1\n",
       "['rt', 'AT_USER', \"facebook's\", 'mobile', 'daily', 'active', 'users', 'are', 'up', '39', '%', 'from', 'a', 'year', 'ago', '.', '$', 'fb', '’', 's', 'results', 'in', '6', 'charts', ':', 'URL', 'URL']  META      1\n",
       "['rt', 'AT_USER', \"facebook's\", 'mobile', 'daily', 'active', 'users', 'grew', 'to', '745', 'million', ',', 'rising', '34', '%', 'from', 'last', 'year', '.', 'URL', '$', 'fb', 'URL']                   META      1\n",
       "                                                                                                                                                                                                                 ..\n",
       "['URL', 'bobirw', ':', 'add', 'short', '1000', '$', 'intc', 'at', '29.59', ':', 'bobirw', 'URL', 'URL']                                                                                                 INTC      1\n",
       "['URL', 'bobirw', ':', 'bot', '1000', '$', 'aapl', 'at', '99.77', ':', 'bobirw', 'URL', 'URL']                                                                                                          AAPL      1\n",
       "['URL', 'bobirw', ':', 'bot', '1000', '$', 'baba', 'at', '109.35', ':', 'bobirw', 'URL', 'URL']                                                                                                         BABA      1\n",
       "['URL', 'bobirw', ':', 'bot', '1000', '$', 'baba', 'at', '75.06', ':', 'bobirw', 'URL', 'URL']                                                                                                          BABA      1\n",
       "['🚨', 'impacto', 'collor', '18/10', '🚨', 'convites', 'do', 'lote', 'promocional', 'comigo', ':', '30', '$', 'p', 'e', '50', '$', 'v', 'boraaaaa', '💥', 'URL']                                           V         1\n",
       "Name: count, Length: 42646, dtype: int64"
      ]
     },
     "execution_count": 104,
     "metadata": {},
     "output_type": "execute_result"
    }
   ],
   "source": [
    "Neu_df.value_counts()"
   ]
  },
  {
   "cell_type": "code",
   "execution_count": 105,
   "metadata": {},
   "outputs": [
    {
     "data": {
      "text/plain": [
       "text      42646\n",
       "Firmen       20\n",
       "dtype: int64"
      ]
     },
     "execution_count": 105,
     "metadata": {},
     "output_type": "execute_result"
    }
   ],
   "source": [
    "Neu_df.nunique()"
   ]
  },
  {
   "cell_type": "code",
   "execution_count": 106,
   "metadata": {},
   "outputs": [
    {
     "name": "stdout",
     "output_type": "stream",
     "text": [
      "<class 'pandas.core.frame.DataFrame'>\n",
      "Index: 42646 entries, 0 to 63729\n",
      "Data columns (total 2 columns):\n",
      " #   Column  Non-Null Count  Dtype \n",
      "---  ------  --------------  ----- \n",
      " 0   text    42646 non-null  object\n",
      " 1   Firmen  42646 non-null  object\n",
      "dtypes: object(2)\n",
      "memory usage: 999.5+ KB\n"
     ]
    }
   ],
   "source": [
    "Neu_df.info()"
   ]
  },
  {
   "cell_type": "code",
   "execution_count": 107,
   "metadata": {},
   "outputs": [],
   "source": [
    "Neu_df['text'] = Neu_df['text'].str.replace(r\"[',]\", '', regex=True)"
   ]
  },
  {
   "cell_type": "code",
   "execution_count": 108,
   "metadata": {},
   "outputs": [
    {
     "data": {
      "text/html": [
       "<div>\n",
       "<style scoped>\n",
       "    .dataframe tbody tr th:only-of-type {\n",
       "        vertical-align: middle;\n",
       "    }\n",
       "\n",
       "    .dataframe tbody tr th {\n",
       "        vertical-align: top;\n",
       "    }\n",
       "\n",
       "    .dataframe thead th {\n",
       "        text-align: right;\n",
       "    }\n",
       "</style>\n",
       "<table border=\"1\" class=\"dataframe\">\n",
       "  <thead>\n",
       "    <tr style=\"text-align: right;\">\n",
       "      <th></th>\n",
       "      <th>text</th>\n",
       "      <th>Firmen</th>\n",
       "    </tr>\n",
       "  </thead>\n",
       "  <tbody>\n",
       "    <tr>\n",
       "      <th>0</th>\n",
       "      <td>[rt AT_USER summary of \"yesterdays\" webcast fe...</td>\n",
       "      <td>AAPL</td>\n",
       "    </tr>\n",
       "    <tr>\n",
       "      <th>2</th>\n",
       "      <td>[itv will boost apple URL $ aapl apple]</td>\n",
       "      <td>AAPL</td>\n",
       "    </tr>\n",
       "    <tr>\n",
       "      <th>3</th>\n",
       "      <td>[iphone users are more intelligent than samsun...</td>\n",
       "      <td>AAPL</td>\n",
       "    </tr>\n",
       "    <tr>\n",
       "      <th>5</th>\n",
       "      <td>[2013 wrap-up and trading set review - part ii...</td>\n",
       "      <td>AAPL</td>\n",
       "    </tr>\n",
       "    <tr>\n",
       "      <th>6</th>\n",
       "      <td>[apple screwed up big time URL $ amzn $ aapl]</td>\n",
       "      <td>AAPL</td>\n",
       "    </tr>\n",
       "  </tbody>\n",
       "</table>\n",
       "</div>"
      ],
      "text/plain": [
       "                                                text Firmen\n",
       "0  [rt AT_USER summary of \"yesterdays\" webcast fe...   AAPL\n",
       "2            [itv will boost apple URL $ aapl apple]   AAPL\n",
       "3  [iphone users are more intelligent than samsun...   AAPL\n",
       "5  [2013 wrap-up and trading set review - part ii...   AAPL\n",
       "6      [apple screwed up big time URL $ amzn $ aapl]   AAPL"
      ]
     },
     "execution_count": 108,
     "metadata": {},
     "output_type": "execute_result"
    }
   ],
   "source": [
    "Neu_df.head()"
   ]
  },
  {
   "cell_type": "code",
   "execution_count": 109,
   "metadata": {},
   "outputs": [],
   "source": [
    "Neu_df.to_csv(\"DataFrame.csv\", index=False)"
   ]
  },
  {
   "cell_type": "code",
   "execution_count": 110,
   "metadata": {},
   "outputs": [
    {
     "data": {
      "text/html": [
       "<div>\n",
       "<style scoped>\n",
       "    .dataframe tbody tr th:only-of-type {\n",
       "        vertical-align: middle;\n",
       "    }\n",
       "\n",
       "    .dataframe tbody tr th {\n",
       "        vertical-align: top;\n",
       "    }\n",
       "\n",
       "    .dataframe thead th {\n",
       "        text-align: right;\n",
       "    }\n",
       "</style>\n",
       "<table border=\"1\" class=\"dataframe\">\n",
       "  <thead>\n",
       "    <tr style=\"text-align: right;\">\n",
       "      <th></th>\n",
       "      <th>text</th>\n",
       "      <th>Firmen</th>\n",
       "    </tr>\n",
       "  </thead>\n",
       "  <tbody>\n",
       "    <tr>\n",
       "      <th>0</th>\n",
       "      <td>[rt AT_USER summary of \"yesterdays\" webcast fe...</td>\n",
       "      <td>AAPL</td>\n",
       "    </tr>\n",
       "    <tr>\n",
       "      <th>2</th>\n",
       "      <td>[itv will boost apple URL $ aapl apple]</td>\n",
       "      <td>AAPL</td>\n",
       "    </tr>\n",
       "    <tr>\n",
       "      <th>3</th>\n",
       "      <td>[iphone users are more intelligent than samsun...</td>\n",
       "      <td>AAPL</td>\n",
       "    </tr>\n",
       "    <tr>\n",
       "      <th>5</th>\n",
       "      <td>[2013 wrap-up and trading set review - part ii...</td>\n",
       "      <td>AAPL</td>\n",
       "    </tr>\n",
       "    <tr>\n",
       "      <th>6</th>\n",
       "      <td>[apple screwed up big time URL $ amzn $ aapl]</td>\n",
       "      <td>AAPL</td>\n",
       "    </tr>\n",
       "    <tr>\n",
       "      <th>8</th>\n",
       "      <td>[$ aapl - wall st . kicks off new year on lowe...</td>\n",
       "      <td>AAPL</td>\n",
       "    </tr>\n",
       "    <tr>\n",
       "      <th>9</th>\n",
       "      <td>[rt AT_USER \"heres\" how apple could be making ...</td>\n",
       "      <td>AAPL</td>\n",
       "    </tr>\n",
       "    <tr>\n",
       "      <th>10</th>\n",
       "      <td>[rt AT_USER our top 3 trade ideas for 2014 and...</td>\n",
       "      <td>AAPL</td>\n",
       "    </tr>\n",
       "    <tr>\n",
       "      <th>11</th>\n",
       "      <td>[AT_USER $ aapl having breathing difficulties]</td>\n",
       "      <td>AAPL</td>\n",
       "    </tr>\n",
       "    <tr>\n",
       "      <th>12</th>\n",
       "      <td>[emylers : \"cheekys\" board ! : $ aapl up to da...</td>\n",
       "      <td>AAPL</td>\n",
       "    </tr>\n",
       "    <tr>\n",
       "      <th>13</th>\n",
       "      <td>[$ aapl blackberry and singer alicia keys to p...</td>\n",
       "      <td>AAPL</td>\n",
       "    </tr>\n",
       "    <tr>\n",
       "      <th>14</th>\n",
       "      <td>[$ aapl - chinas xiaomi says to more than doub...</td>\n",
       "      <td>AAPL</td>\n",
       "    </tr>\n",
       "    <tr>\n",
       "      <th>17</th>\n",
       "      <td>[what are your top picks for q1 2014 ? here ar...</td>\n",
       "      <td>AAPL</td>\n",
       "    </tr>\n",
       "    <tr>\n",
       "      <th>19</th>\n",
       "      <td>[$ aapl us stocks-wall st kicks off new year o...</td>\n",
       "      <td>AAPL</td>\n",
       "    </tr>\n",
       "    <tr>\n",
       "      <th>20</th>\n",
       "      <td>[rt AT_USER apple gained 8 % in 2013 vs s &amp; \"p...</td>\n",
       "      <td>AAPL</td>\n",
       "    </tr>\n",
       "    <tr>\n",
       "      <th>23</th>\n",
       "      <td>[$ aapl - apple will be the main victim of mic...</td>\n",
       "      <td>AAPL</td>\n",
       "    </tr>\n",
       "    <tr>\n",
       "      <th>24</th>\n",
       "      <td>[new education : supply / demand zones  accumu...</td>\n",
       "      <td>AAPL</td>\n",
       "    </tr>\n",
       "    <tr>\n",
       "      <th>25</th>\n",
       "      <td>[i bought a new tv this year . would probably ...</td>\n",
       "      <td>AAPL</td>\n",
       "    </tr>\n",
       "    <tr>\n",
       "      <th>26</th>\n",
       "      <td>[$ aapl [ video ] apple denies working with ns...</td>\n",
       "      <td>AAPL</td>\n",
       "    </tr>\n",
       "    <tr>\n",
       "      <th>27</th>\n",
       "      <td>[$ aapl cleaning the mobile germ warehouse URL]</td>\n",
       "      <td>AAPL</td>\n",
       "    </tr>\n",
       "    <tr>\n",
       "      <th>28</th>\n",
       "      <td>[$ aapl kara swisher and walt mossberg launch ...</td>\n",
       "      <td>AAPL</td>\n",
       "    </tr>\n",
       "    <tr>\n",
       "      <th>29</th>\n",
       "      <td>[$ aapl \"lets\" not let the wf downgrade oversh...</td>\n",
       "      <td>AAPL</td>\n",
       "    </tr>\n",
       "    <tr>\n",
       "      <th>30</th>\n",
       "      <td>[will 2014 be \"apples\" \" year of innovation \" ...</td>\n",
       "      <td>AAPL</td>\n",
       "    </tr>\n",
       "    <tr>\n",
       "      <th>31</th>\n",
       "      <td>[$ aapl - pre-market : apple downgraded on mar...</td>\n",
       "      <td>AAPL</td>\n",
       "    </tr>\n",
       "    <tr>\n",
       "      <th>32</th>\n",
       "      <td>[big \"tunas\" stocks - $ aapl daily chart ~ ran...</td>\n",
       "      <td>AAPL</td>\n",
       "    </tr>\n",
       "  </tbody>\n",
       "</table>\n",
       "</div>"
      ],
      "text/plain": [
       "                                                 text Firmen\n",
       "0   [rt AT_USER summary of \"yesterdays\" webcast fe...   AAPL\n",
       "2             [itv will boost apple URL $ aapl apple]   AAPL\n",
       "3   [iphone users are more intelligent than samsun...   AAPL\n",
       "5   [2013 wrap-up and trading set review - part ii...   AAPL\n",
       "6       [apple screwed up big time URL $ amzn $ aapl]   AAPL\n",
       "8   [$ aapl - wall st . kicks off new year on lowe...   AAPL\n",
       "9   [rt AT_USER \"heres\" how apple could be making ...   AAPL\n",
       "10  [rt AT_USER our top 3 trade ideas for 2014 and...   AAPL\n",
       "11     [AT_USER $ aapl having breathing difficulties]   AAPL\n",
       "12  [emylers : \"cheekys\" board ! : $ aapl up to da...   AAPL\n",
       "13  [$ aapl blackberry and singer alicia keys to p...   AAPL\n",
       "14  [$ aapl - chinas xiaomi says to more than doub...   AAPL\n",
       "17  [what are your top picks for q1 2014 ? here ar...   AAPL\n",
       "19  [$ aapl us stocks-wall st kicks off new year o...   AAPL\n",
       "20  [rt AT_USER apple gained 8 % in 2013 vs s & \"p...   AAPL\n",
       "23  [$ aapl - apple will be the main victim of mic...   AAPL\n",
       "24  [new education : supply / demand zones  accumu...   AAPL\n",
       "25  [i bought a new tv this year . would probably ...   AAPL\n",
       "26  [$ aapl [ video ] apple denies working with ns...   AAPL\n",
       "27    [$ aapl cleaning the mobile germ warehouse URL]   AAPL\n",
       "28  [$ aapl kara swisher and walt mossberg launch ...   AAPL\n",
       "29  [$ aapl \"lets\" not let the wf downgrade oversh...   AAPL\n",
       "30  [will 2014 be \"apples\" \" year of innovation \" ...   AAPL\n",
       "31  [$ aapl - pre-market : apple downgraded on mar...   AAPL\n",
       "32  [big \"tunas\" stocks - $ aapl daily chart ~ ran...   AAPL"
      ]
     },
     "execution_count": 110,
     "metadata": {},
     "output_type": "execute_result"
    }
   ],
   "source": [
    "Neu_df.head(25)"
   ]
  },
  {
   "cell_type": "code",
   "execution_count": 112,
   "metadata": {},
   "outputs": [
    {
     "data": {
      "text/plain": [
       "text      [$ aapl - pre-market : apple downgraded on mar...\n",
       "Firmen                                                 AAPL\n",
       "Name: 31, dtype: object"
      ]
     },
     "execution_count": 112,
     "metadata": {},
     "output_type": "execute_result"
    }
   ],
   "source": [
    "Neu_df.loc[31]"
   ]
  },
  {
   "cell_type": "code",
   "execution_count": 115,
   "metadata": {},
   "outputs": [],
   "source": [
    "# Das Symbol \"$\" bezieht sich auf Emojis, daher ist es sinnvoll, es aus dem Text zu entfernen.\n",
    "Neu_df['text'] = Neu_df['text'].str.replace(r\"[$]\", '', regex=True)"
   ]
  },
  {
   "cell_type": "code",
   "execution_count": 116,
   "metadata": {},
   "outputs": [
    {
     "data": {
      "text/html": [
       "<div>\n",
       "<style scoped>\n",
       "    .dataframe tbody tr th:only-of-type {\n",
       "        vertical-align: middle;\n",
       "    }\n",
       "\n",
       "    .dataframe tbody tr th {\n",
       "        vertical-align: top;\n",
       "    }\n",
       "\n",
       "    .dataframe thead th {\n",
       "        text-align: right;\n",
       "    }\n",
       "</style>\n",
       "<table border=\"1\" class=\"dataframe\">\n",
       "  <thead>\n",
       "    <tr style=\"text-align: right;\">\n",
       "      <th></th>\n",
       "      <th>text</th>\n",
       "      <th>Firmen</th>\n",
       "    </tr>\n",
       "  </thead>\n",
       "  <tbody>\n",
       "    <tr>\n",
       "      <th>0</th>\n",
       "      <td>[rt AT_USER summary of \"yesterdays\" webcast fe...</td>\n",
       "      <td>AAPL</td>\n",
       "    </tr>\n",
       "    <tr>\n",
       "      <th>2</th>\n",
       "      <td>[itv will boost apple URL  aapl apple]</td>\n",
       "      <td>AAPL</td>\n",
       "    </tr>\n",
       "    <tr>\n",
       "      <th>3</th>\n",
       "      <td>[iphone users are more intelligent than samsun...</td>\n",
       "      <td>AAPL</td>\n",
       "    </tr>\n",
       "    <tr>\n",
       "      <th>5</th>\n",
       "      <td>[2013 wrap-up and trading set review - part ii...</td>\n",
       "      <td>AAPL</td>\n",
       "    </tr>\n",
       "    <tr>\n",
       "      <th>6</th>\n",
       "      <td>[apple screwed up big time URL  amzn  aapl]</td>\n",
       "      <td>AAPL</td>\n",
       "    </tr>\n",
       "  </tbody>\n",
       "</table>\n",
       "</div>"
      ],
      "text/plain": [
       "                                                text Firmen\n",
       "0  [rt AT_USER summary of \"yesterdays\" webcast fe...   AAPL\n",
       "2             [itv will boost apple URL  aapl apple]   AAPL\n",
       "3  [iphone users are more intelligent than samsun...   AAPL\n",
       "5  [2013 wrap-up and trading set review - part ii...   AAPL\n",
       "6        [apple screwed up big time URL  amzn  aapl]   AAPL"
      ]
     },
     "execution_count": 116,
     "metadata": {},
     "output_type": "execute_result"
    }
   ],
   "source": [
    "Neu_df.head()"
   ]
  },
  {
   "cell_type": "code",
   "execution_count": 117,
   "metadata": {},
   "outputs": [],
   "source": [
    "Neu_df[\"text\"]= Neu_df[\"text\"].str.replace(r\"URL\",'', regex=True)"
   ]
  },
  {
   "cell_type": "code",
   "execution_count": 118,
   "metadata": {},
   "outputs": [
    {
     "data": {
      "text/html": [
       "<div>\n",
       "<style scoped>\n",
       "    .dataframe tbody tr th:only-of-type {\n",
       "        vertical-align: middle;\n",
       "    }\n",
       "\n",
       "    .dataframe tbody tr th {\n",
       "        vertical-align: top;\n",
       "    }\n",
       "\n",
       "    .dataframe thead th {\n",
       "        text-align: right;\n",
       "    }\n",
       "</style>\n",
       "<table border=\"1\" class=\"dataframe\">\n",
       "  <thead>\n",
       "    <tr style=\"text-align: right;\">\n",
       "      <th></th>\n",
       "      <th>text</th>\n",
       "      <th>Firmen</th>\n",
       "    </tr>\n",
       "  </thead>\n",
       "  <tbody>\n",
       "    <tr>\n",
       "      <th>0</th>\n",
       "      <td>[rt AT_USER summary of \"yesterdays\" webcast fe...</td>\n",
       "      <td>AAPL</td>\n",
       "    </tr>\n",
       "    <tr>\n",
       "      <th>2</th>\n",
       "      <td>[itv will boost apple   aapl apple]</td>\n",
       "      <td>AAPL</td>\n",
       "    </tr>\n",
       "    <tr>\n",
       "      <th>3</th>\n",
       "      <td>[iphone users are more intelligent than samsun...</td>\n",
       "      <td>AAPL</td>\n",
       "    </tr>\n",
       "    <tr>\n",
       "      <th>5</th>\n",
       "      <td>[2013 wrap-up and trading set review - part ii...</td>\n",
       "      <td>AAPL</td>\n",
       "    </tr>\n",
       "    <tr>\n",
       "      <th>6</th>\n",
       "      <td>[apple screwed up big time   amzn  aapl]</td>\n",
       "      <td>AAPL</td>\n",
       "    </tr>\n",
       "    <tr>\n",
       "      <th>8</th>\n",
       "      <td>[ aapl - wall st . kicks off new year on lower...</td>\n",
       "      <td>AAPL</td>\n",
       "    </tr>\n",
       "    <tr>\n",
       "      <th>9</th>\n",
       "      <td>[rt AT_USER \"heres\" how apple could be making ...</td>\n",
       "      <td>AAPL</td>\n",
       "    </tr>\n",
       "    <tr>\n",
       "      <th>10</th>\n",
       "      <td>[rt AT_USER our top 3 trade ideas for 2014 and...</td>\n",
       "      <td>AAPL</td>\n",
       "    </tr>\n",
       "    <tr>\n",
       "      <th>11</th>\n",
       "      <td>[AT_USER  aapl having breathing difficulties]</td>\n",
       "      <td>AAPL</td>\n",
       "    </tr>\n",
       "    <tr>\n",
       "      <th>12</th>\n",
       "      <td>[emylers : \"cheekys\" board ! :  aapl up to dat...</td>\n",
       "      <td>AAPL</td>\n",
       "    </tr>\n",
       "  </tbody>\n",
       "</table>\n",
       "</div>"
      ],
      "text/plain": [
       "                                                 text Firmen\n",
       "0   [rt AT_USER summary of \"yesterdays\" webcast fe...   AAPL\n",
       "2                 [itv will boost apple   aapl apple]   AAPL\n",
       "3   [iphone users are more intelligent than samsun...   AAPL\n",
       "5   [2013 wrap-up and trading set review - part ii...   AAPL\n",
       "6            [apple screwed up big time   amzn  aapl]   AAPL\n",
       "8   [ aapl - wall st . kicks off new year on lower...   AAPL\n",
       "9   [rt AT_USER \"heres\" how apple could be making ...   AAPL\n",
       "10  [rt AT_USER our top 3 trade ideas for 2014 and...   AAPL\n",
       "11      [AT_USER  aapl having breathing difficulties]   AAPL\n",
       "12  [emylers : \"cheekys\" board ! :  aapl up to dat...   AAPL"
      ]
     },
     "execution_count": 118,
     "metadata": {},
     "output_type": "execute_result"
    }
   ],
   "source": [
    "Neu_df.head(10)"
   ]
  },
  {
   "cell_type": "code",
   "execution_count": 120,
   "metadata": {},
   "outputs": [],
   "source": [
    "Neu_df.to_csv(\"dataframe2.csv\", index=False)"
   ]
  },
  {
   "cell_type": "code",
   "execution_count": null,
   "metadata": {},
   "outputs": [],
   "source": []
  }
 ],
 "metadata": {
  "kernelspec": {
   "display_name": "Python 3.11.5 ('base')",
   "language": "python",
   "name": "python3"
  },
  "language_info": {
   "codemirror_mode": {
    "name": "ipython",
    "version": 3
   },
   "file_extension": ".py",
   "mimetype": "text/x-python",
   "name": "python",
   "nbconvert_exporter": "python",
   "pygments_lexer": "ipython3",
   "version": "3.11.5"
  },
  "orig_nbformat": 4,
  "vscode": {
   "interpreter": {
    "hash": "3c06e3e46abf38078fe4dac36a0085ec2b134ebbd73dd076183d243eeca6918f"
   }
  }
 },
 "nbformat": 4,
 "nbformat_minor": 2
}
